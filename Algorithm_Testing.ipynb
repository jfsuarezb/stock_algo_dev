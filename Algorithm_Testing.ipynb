{
 "cells": [
  {
   "cell_type": "code",
   "execution_count": 35,
   "metadata": {},
   "outputs": [],
   "source": [
    "#imports\n",
    "\n",
    "import json\n",
    "import pandas as pd\n",
    "import os\n",
    "import statistics\n",
    "from matplotlib import pyplot as plt"
   ]
  },
  {
   "cell_type": "code",
   "execution_count": 36,
   "metadata": {},
   "outputs": [],
   "source": [
    "#loading model\n",
    "\n",
    "coeff = 0\n",
    "inter = 0\n",
    "\n",
    "with open('model.json','r') as f:\n",
    "    model = json.load(f)\n",
    "    coeff = model['coefficient']\n",
    "    inter = model['intercept']"
   ]
  },
  {
   "cell_type": "code",
   "execution_count": 37,
   "metadata": {},
   "outputs": [],
   "source": [
    "#loading and shaping testing data\n",
    "\n",
    "oil_prices = pd.read_csv('data/oil_test_prices.csv')[['Date','Low']].dropna().rename(columns={'Low':'Oil'})\n",
    "\n",
    "eco_stock = pd.read_csv('data/stock_test_prices.csv')[['Date','Open']].rename(columns={'Open':'Stock'})\n",
    "\n",
    "pricetostock = pd.merge(oil_prices, eco_stock,how='left',on='Date')\n",
    "pricetostock.Stock = pricetostock.Stock.shift(-1)\n",
    "pricetostock = pricetostock.dropna()"
   ]
  },
  {
   "cell_type": "code",
   "execution_count": 38,
   "metadata": {},
   "outputs": [
    {
     "name": "stdout",
     "output_type": "stream",
     "text": [
      "[94.64561360630354, 95.58918388708861, 98.07760956639926, 97.79014572461418, 94.05185046206667, 92.83680323745727, 92.18776993959044, 90.14043777822884, 91.64615322568287, 91.21495999375335, 91.96626011387728, 93.69542258877037, 93.74619809543336, 93.27825864037138, 92.71526689956269, 92.0163496424477, 93.26012038590805, 93.50746875823407, 95.98775599923644, 94.61447322208504, 93.17368757752773, 90.87064593877386, 88.64570783266437, 89.57823523435181, 91.72877645705718, 91.17039332171674, 90.18460853321454, 87.72087508325039, 86.36362035245543, 86.69429086545915, 90.81982696266027, 87.22375395092689, 85.67475967367602, 89.10789238823003, 89.1225989679823, 88.84724495608513, 88.62132128321603, 90.74926736926777, 94.34164990107062, 88.04657458921655, 87.59067226383944, 91.790724248009, 92.06554553948216, 92.75202179603714, 94.21161060731316, 93.67507590931189, 95.3014643548652, 73.96469797419206, 78.59746358577459, 59.296248564522514, 54.79550258854109, 42.44645434998873, 41.9009924103082, 52.09766181819801, 51.787649539005585, 57.639413457681975, 59.04262364291274, 73.84332324953813, 85.1700018533018, 85.2111402262477, 90.03077262427448, 86.36124851538477, 88.90589619600195, 97.34384250540832, 99.05825037049243, 99.28578032161742, 98.10103865075314, 90.0366415410478, 89.5248491815694, 95.47217751302877, 97.38710186062606, 96.7475671553612, 97.38501104814591, 95.54084880370351, -28.31600832871763, 64.89031191461798, 85.71920208563154, 95.01815453614738, 96.56486011336739, 89.48163578497083, 78.0079507807261, 83.00688610911445, 93.17836185645896, 89.72918197779723, 97.28361619208842, 90.25196493808421, 88.76157745931378, 92.18475341067287, 91.73676358807755, 93.70752276774166, 89.02372288589943, 78.8735229039455, 80.49820357205722, 78.93727808394242, 79.68485734466218, 76.98866564305536, 77.54058496922353, 70.28220445379756, 75.19987694951934, 75.09021719215701, 80.89609631028384, 76.37108188594632, 66.05999478383877, 74.66153703014695, 78.84736026844826, 81.40801510466575, 86.81450499674484, 91.08630169031998, 88.63781436893316, 89.72612930494068, 78.36194827666829, 79.11606981358815, 72.39607649770201, 83.26130193140663, 81.33222485100521, 73.23318498012722]\n",
      "\n",
      "\n",
      "\n",
      "\n",
      "84.58233326337516\n"
     ]
    }
   ],
   "source": [
    "#calculating accuracy\n",
    "\n",
    "Error = []\n",
    "\n",
    "for _, row in pricetostock.iterrows():\n",
    "    RV = row['Stock']\n",
    "    MV = (row['Oil'] * coeff) + inter\n",
    "    error = ((RV - abs(RV-MV))/RV)*100\n",
    "    Error.append(error)\n",
    "print(Error)\n",
    "print('\\n\\n\\n')\n",
    "print(statistics.mean(Error))"
   ]
  },
  {
   "cell_type": "code",
   "execution_count": 41,
   "metadata": {},
   "outputs": [
    {
     "name": "stdout",
     "output_type": "stream",
     "text": [
      "0.6\n"
     ]
    }
   ],
   "source": [
    "#calculating directional accuracy\n",
    "\n",
    "total = 0\n",
    "totalRight = 0\n",
    "\n",
    "for i, row in pricetostock.iterrows():\n",
    "    \n",
    "    if i ==0:\n",
    "        continue\n",
    "    \n",
    "    previousValue = pricetostock.iloc[i-1]['Stock']\n",
    "    actualValue = row['Stock']\n",
    "    predictedValue = (coeff*row['Oil'])+inter\n",
    "    \n",
    "    realSwing = 0\n",
    "    if (actualValue-previousValue) > 0:\n",
    "        realSwing = 1\n",
    "    else:\n",
    "        realSwing = -1\n",
    "    \n",
    "    predictedSwing = 0\n",
    "    if (predictedValue - previousValue) >0:\n",
    "        predictedSwing = 1\n",
    "    else:\n",
    "        predictedSwing = -1\n",
    "    \n",
    "    if predictedSwing == realSwing:\n",
    "        totalRight += 1\n",
    "    total += 1\n",
    "        \n",
    "print(totalRight/total)\n",
    "    \n",
    "        "
   ]
  },
  {
   "cell_type": "code",
   "execution_count": null,
   "metadata": {},
   "outputs": [],
   "source": []
  }
 ],
 "metadata": {
  "kernelspec": {
   "display_name": "Python 3",
   "language": "python",
   "name": "python3"
  },
  "language_info": {
   "codemirror_mode": {
    "name": "ipython",
    "version": 3
   },
   "file_extension": ".py",
   "mimetype": "text/x-python",
   "name": "python",
   "nbconvert_exporter": "python",
   "pygments_lexer": "ipython3",
   "version": "3.7.4"
  }
 },
 "nbformat": 4,
 "nbformat_minor": 2
}

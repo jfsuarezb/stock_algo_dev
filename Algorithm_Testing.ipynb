{
 "cells": [
  {
   "cell_type": "code",
   "execution_count": 1,
   "metadata": {},
   "outputs": [],
   "source": [
    "#imports\n",
    "\n",
    "import json\n",
    "import pandas as pd\n",
    "import os\n",
    "from dotenv import load_dotenv\n",
    "load_dotenv()\n",
    "from matplotlib import pyplot as plt"
   ]
  },
  {
   "cell_type": "code",
   "execution_count": 3,
   "metadata": {},
   "outputs": [],
   "source": [
    "#loading model\n",
    "\n",
    "coeff = 0\n",
    "inter = 0\n",
    "\n",
    "with open('model.json','r') as f:\n",
    "    model = json.load(f)\n",
    "    coeff = model['coefficient']\n",
    "    inter = model['intercept']"
   ]
  },
  {
   "cell_type": "code",
   "execution_count": 13,
   "metadata": {},
   "outputs": [
    {
     "name": "stdout",
     "output_type": "stream",
     "text": [
      "           Date        Oil  Stock\n",
      "0    2020-01-02  60.639999  20.15\n",
      "1    2020-01-03  61.130001  20.59\n",
      "2    2020-01-06  62.639999  20.50\n",
      "3    2020-01-07  62.110001  20.32\n",
      "4    2020-01-08  59.150002  20.26\n",
      "..          ...        ...    ...\n",
      "133  2020-06-14  35.330002    NaN\n",
      "134  2020-06-15  34.360001  10.89\n",
      "135  2020-06-16  36.779999  11.72\n",
      "136  2020-06-17  37.270000  11.98\n",
      "137  2020-06-18  37.330002  11.30\n",
      "\n",
      "[138 rows x 3 columns]\n",
      "           Date        Oil      Stock\n",
      "0    2020-01-02  60.639999  20.590000\n",
      "1    2020-01-03  61.130001  20.500000\n",
      "2    2020-01-06  62.639999  20.320000\n",
      "3    2020-01-07  62.110001  20.260000\n",
      "4    2020-01-08  59.150002  20.370001\n",
      "..          ...        ...        ...\n",
      "131  2020-06-11  35.410000  11.510000\n",
      "133  2020-06-14  35.330002  10.890000\n",
      "134  2020-06-15  34.360001  11.720000\n",
      "135  2020-06-16  36.779999  11.980000\n",
      "136  2020-06-17  37.270000  11.300000\n",
      "\n",
      "[116 rows x 3 columns]\n"
     ]
    }
   ],
   "source": [
    "#loading and shaping testing data\n",
    "\n",
    "oil_prices = pd.read_csv('data/oil_test_prices.csv')[['Date','Low']].dropna().rename(columns={'Low':'Oil'})\n",
    "\n",
    "eco_stock = pd.read_csv('data/stock_test_prices.csv')[['Date','Open']].rename(columns={'Open':'Stock'})\n",
    "\n",
    "pricetostock = pd.merge(oil_prices, eco_stock,how='left',on='Date')\n",
    "pricetostock.Stock = pricetostock.Stock.shift(-1)\n",
    "pricetostock = pricetostock.dropna()"
   ]
  },
  {
   "cell_type": "code",
   "execution_count": null,
   "metadata": {},
   "outputs": [],
   "source": []
  }
 ],
 "metadata": {
  "kernelspec": {
   "display_name": "Python 3",
   "language": "python",
   "name": "python3"
  },
  "language_info": {
   "codemirror_mode": {
    "name": "ipython",
    "version": 3
   },
   "file_extension": ".py",
   "mimetype": "text/x-python",
   "name": "python",
   "nbconvert_exporter": "python",
   "pygments_lexer": "ipython3",
   "version": "3.7.4"
  }
 },
 "nbformat": 4,
 "nbformat_minor": 2
}
